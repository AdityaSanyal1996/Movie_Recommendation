{
 "cells": [
  {
   "cell_type": "code",
   "execution_count": 1,
   "metadata": {},
   "outputs": [],
   "source": [
    "import os"
   ]
  },
  {
   "cell_type": "code",
   "execution_count": 2,
   "metadata": {},
   "outputs": [
    {
     "data": {
      "text/plain": [
       "'/home/adityasanyal1996/Movie_Recommendation/research'"
      ]
     },
     "execution_count": 2,
     "metadata": {},
     "output_type": "execute_result"
    }
   ],
   "source": [
    "%pwd"
   ]
  },
  {
   "cell_type": "code",
   "execution_count": 3,
   "metadata": {},
   "outputs": [],
   "source": [
    "os.chdir(\"../\")"
   ]
  },
  {
   "cell_type": "code",
   "execution_count": 4,
   "metadata": {},
   "outputs": [
    {
     "data": {
      "text/plain": [
       "'/home/adityasanyal1996/Movie_Recommendation'"
      ]
     },
     "execution_count": 4,
     "metadata": {},
     "output_type": "execute_result"
    }
   ],
   "source": [
    "%pwd"
   ]
  },
  {
   "cell_type": "markdown",
   "metadata": {},
   "source": [
    "### Entity"
   ]
  },
  {
   "cell_type": "code",
   "execution_count": 5,
   "metadata": {},
   "outputs": [],
   "source": [
    "from dataclasses import dataclass\n",
    "from pathlib import Path\n",
    "\n",
    "@dataclass\n",
    "class ModelTrainingConfig:\n",
    "    root_dir: Path\n",
    "    transformed_data_file: Path\n",
    "    tokenized_data: Path"
   ]
  },
  {
   "cell_type": "markdown",
   "metadata": {},
   "source": [
    "### Configuration Manager"
   ]
  },
  {
   "cell_type": "code",
   "execution_count": 6,
   "metadata": {},
   "outputs": [],
   "source": [
    "from recommender.constants import *\n",
    "from recommender.utils.common import read_yaml, create_directories"
   ]
  },
  {
   "cell_type": "code",
   "execution_count": 7,
   "metadata": {},
   "outputs": [],
   "source": [
    "class ConfigurationManager:\n",
    "    def __init__(self,\n",
    "                 config_filepath = CONFIG_FILE_PATH,\n",
    "                 schema_filepath = SCHEMA_FILE_PATH):\n",
    "        self.config = read_yaml(config_filepath)\n",
    "        self.schema = read_yaml(schema_filepath)\n",
    "\n",
    "        create_directories([self.config.artifacts_root])\n",
    "    \n",
    "    def get_model_training_config(self)->ModelTrainingConfig:\n",
    "        config = self.config.model_inference\n",
    "        create_directories([config.root_dir])\n",
    "        model_training_config = ModelTrainingConfig(\n",
    "            root_dir = config.root_dir,\n",
    "            transformed_data_file = config.transformed_data_file,\n",
    "            tokenized_data = config.tokenized_data\n",
    "        )\n",
    "        return model_training_config"
   ]
  },
  {
   "cell_type": "markdown",
   "metadata": {},
   "source": [
    "### Component"
   ]
  },
  {
   "cell_type": "code",
   "execution_count": 8,
   "metadata": {},
   "outputs": [],
   "source": [
    "from sklearn.feature_extraction.text import TfidfVectorizer\n",
    "from sklearn.metrics.pairwise import cosine_similarity\n",
    "import pandas as pd\n",
    "from recommender import logger\n",
    "\n",
    "from pathlib import Path"
   ]
  },
  {
   "cell_type": "code",
   "execution_count": 9,
   "metadata": {},
   "outputs": [],
   "source": [
    "class MovieRecommender:\n",
    "    def __init__(self, config:ModelTrainingConfig):\n",
    "        self.config = config\n",
    "        \n",
    "    \n",
    "    def similarities(self):\n",
    "        df = pd.read_csv(self.config.transformed_data_file)\n",
    "        vectorizer = TfidfVectorizer(stop_words='english')\n",
    "        description_matrix = vectorizer.fit_transform(df['description'])\n",
    "        description_matrix.toarray()\n",
    "        cosine_similarities = cosine_similarity(description_matrix)\n",
    "        cosine_similarities = pd.DataFrame(cosine_similarities)\n",
    "        self.similarity_df = df[['type', 'title']].copy()\n",
    "        self.similarity_df = pd.concat([self.similarity_df, cosine_similarities], axis=1)\n",
    "        self.similarity_df.to_csv(self.config.tokenized_data)\n",
    "        logger.info(f\"created and saved the similarity matrix succesfully!\")\n",
    "    \n",
    "    def recommend(self, name:str):\n",
    "        movie = self.similarity_df[self.similarity_df['title'] == name].iloc[:, 2:]\n",
    "        movie_index = movie.index[0]\n",
    "        movie = movie.squeeze() #converts index object to a scalar\n",
    "        similar_5 = movie.nlargest(6).index\n",
    "        selected_movies = similar_5[similar_5 != movie_index] \n",
    "        return selected_movies\n",
    "    \n",
    "    "
   ]
  },
  {
   "cell_type": "markdown",
   "metadata": {},
   "source": [
    "### Pipeline\n"
   ]
  },
  {
   "cell_type": "code",
   "execution_count": 10,
   "metadata": {},
   "outputs": [
    {
     "name": "stdout",
     "output_type": "stream",
     "text": [
      "[2024-12-12 23:03:10,553: INFO: common: yaml file:config/config.yaml loaded successfully]\n",
      "[2024-12-12 23:03:10,556: INFO: common: yaml file:schema.yaml loaded successfully]\n",
      "[2024-12-12 23:03:10,557: INFO: common: create directory at artifacts]\n",
      "[2024-12-12 23:03:10,557: INFO: common: create directory at artifacts/model_inference]\n",
      "[2024-12-12 23:03:49,825: INFO: 4003437131: created the similarity matrix succesfully!]\n",
      "College Romance\n",
      "Engineering Girls\n",
      "Candy Jar\n",
      "Mr. Young\n",
      "Pahuna\n"
     ]
    }
   ],
   "source": [
    "try:\n",
    "    config = ConfigurationManager()\n",
    "    model_training_config = config.get_model_training_config()\n",
    "    model = MovieRecommender(config = model_training_config)\n",
    "    model.similarities()\n",
    "    similarities = model.similarity_df\n",
    "    name = input(\"enter the name of the movie: \")\n",
    "    movies = model.recommend(name)\n",
    "    for i in movies:\n",
    "        print(similarities.iloc[int(i), 1])\n",
    "    \n",
    "    \n",
    "except Exception as e:\n",
    "     raise e\n",
    "\n"
   ]
  },
  {
   "cell_type": "code",
   "execution_count": null,
   "metadata": {},
   "outputs": [],
   "source": []
  }
 ],
 "metadata": {
  "kernelspec": {
   "display_name": "my_env",
   "language": "python",
   "name": "python3"
  },
  "language_info": {
   "codemirror_mode": {
    "name": "ipython",
    "version": 3
   },
   "file_extension": ".py",
   "mimetype": "text/x-python",
   "name": "python",
   "nbconvert_exporter": "python",
   "pygments_lexer": "ipython3",
   "version": "3.12.4"
  }
 },
 "nbformat": 4,
 "nbformat_minor": 2
}
